{
  "metadata": {
    "language_info": {
      "codemirror_mode": {
        "name": "python",
        "version": 3
      },
      "file_extension": ".py",
      "mimetype": "text/x-python",
      "name": "python",
      "nbconvert_exporter": "python",
      "pygments_lexer": "ipython3",
      "version": "3.8"
    },
    "kernelspec": {
      "name": "python",
      "display_name": "Python (Pyodide)",
      "language": "python"
    }
  },
  "nbformat_minor": 4,
  "nbformat": 4,
  "cells": [
    {
      "cell_type": "code",
      "source": "import json\nimport math\nfrom collections import namedtuple\n\nBEST_RPM = 1800\nCONFIG_friction_drag_multiplier = 0.0001\nCONFIG_aero_dynamic_drag_multiplier = 0.0001\nCONFIG_fluid_per_blade_liner_kilometre = 20\n\nMaterial = namedtuple('Material', 'extraction_rate induction_energy_exponent_bonus induction_efficiency name')\n\nmaterials = {\n    \"ATM块\": Material(0.4, 1.02, 1.2, 'allthemodium'),\n    \"难得素\": Material(0.7, 1.06, 1.5, 'unobtainium'),\n    \"振金\": Material(0.5, 1.04, 1.35, 'vibranium'),\n    \"镥块\": Material(0.35, 1.02, 1.15, 'biggerreactors:ludicrite_block'),\n    \"铝块\": Material(0.13, 1, 0.495, 'aluminum'),\n    \"铜块\": Material(0.12, 1, 0.396, 'copper'),\n    \"琥珀金块\": Material(0.2, 1, 0.825, 'electrum'),\n    \"末影块\": Material(0.3, 1.02, 0.99, 'enderium'),\n    \"殷钢块\": Material(0.14, 1, 0.495, 'invar'),\n    \"铂块\": Material(0.25, 1, 0.99, 'platinum'),\n    \"银块\": Material(0.15, 1, 0.561, 'silver'),\n    \"锇块\": Material(0.12, 1, 0.462, 'osmium'),\n    \"金块\": Material(0.175, 1, 0.66, 'gold'),\n    \"铁块\": Material(0.1, 1, 0.33, 'iron'),\n    \"钢块\": Material(0.13, 1, 0.495, 'steel'),\n}\n\n\ndef blade_length(shaft_length, upper, coil_length, idc_):\n    rotor_mass = shaft_length * 100 + (shaft_length - coil_length) * 100 * upper * 4\n    linear_blade_meters_per_revolution = ((1 + upper) * upper) / 2 * 4 * (shaft_length - coil_length)\n    effective_flow_rate = (BEST_RPM * idc_ + rotor_mass * math.pow(BEST_RPM * CONFIG_friction_drag_multiplier, 2) + linear_blade_meters_per_revolution * math.pow(BEST_RPM * CONFIG_aero_dynamic_drag_multiplier, 2)) / 10\n    linear_blade_meters_per_revolution_cal = effective_flow_rate / BEST_RPM / (2 * math.pi) * 1000 / CONFIG_fluid_per_blade_liner_kilometre\n    full_blade_length = math.ceil(linear_blade_meters_per_revolution_cal / (((1 + upper) * upper) * 2))\n    return full_blade_length, effective_flow_rate, linear_blade_meters_per_revolution_cal\n\n\ndef coil_position(coils):\n    if len(coils) <= 2:\n        return coils\n    else:\n        return {1: coils[1], len(coils): coils[len(coils)]}\n\n\ndef ret(ind, shaft_length, upper, i, material, ef, coils, coil_size, max_steam, show_details, show_coils):\n    full_blade_length, effective_flow_rate, _ = blade_length(shaft_length, upper, i, ind)\n    energy = math.pow(BEST_RPM * ind, material.induction_energy_exponent_bonus) * material.induction_efficiency * (0.25 * math.cos(BEST_RPM / (45.5 * math.pi)) + 0.75)\n    rf_mb = energy / ef\n    if show_details:\n        print(\"线圈方块总数:\", coil_size)\n        if show_coils:\n            print(\"线圈方块放置方式:\", json.dumps(coils, sort_keys=True, indent=4))\n        print(f\"蒸汽流速: {ef:.3f}\")\n        print(f\"rf/t: {energy:.3f}\")\n        print(f\"rf/mb: {rf_mb:.3f}\")\n        # print(f\"total: {_:.3f}\")\n    return {'coil_size': coil_size, 'coil_position': coil_position(coils), 'flow_rate': round(ef, 3),\n            'rf_t': round(energy, 3), 'rf_mb': round(rf_mb, 3), \"status\": ef <= max_steam}\n\n\ndef turbine(shaft_length, width, material: Material, show_details=True, show_coils=True):\n    ef = 0\n    coil_size = 0\n    coils = {}\n    max_steam = (width ** 2 - 1) * 5000\n    inductor_drag_coefficient = 0\n\n    for i in range(1, shaft_length):\n        for j in range(3, width + 1, 2):\n            for k in range(1, j ** 2 - (j - 2) ** 2 + 1):\n                distance = (j - 1) / 2\n                idc = inductor_drag_coefficient\n                inductor_drag_coefficient += material.extraction_rate * (2 / (distance + 1)) * 10\n                upper = (width - 1) / 2\n                full_blade_length, effective_flow_rate, _ = blade_length(shaft_length, upper, i, inductor_drag_coefficient)\n                if i + full_blade_length <= shaft_length:\n                    ef = effective_flow_rate\n                    coil_size += 1\n                    if i not in coils:\n                        coils[i] = {j: 1}\n                    else:\n                        if j not in coils[i]:\n                            coils[i][j] = 1\n                        else:\n                            coils[i][j] += 1\n                elif width > 3:\n                    inductor_drag_coefficient = idc\n                    for l in range(width, 3, -2):\n                        for m in range(1, l ** 2 - (l - 2) ** 2 + 1):\n                            distance = (l - 1) / 2\n                            idd = inductor_drag_coefficient\n                            inductor_drag_coefficient += material.extraction_rate * (2 / (distance + 1)) * 10\n                            upper = (width - 1) / 2\n                            full_blade_length, effective_flow_rate, _ = blade_length(shaft_length, upper, i, inductor_drag_coefficient)\n                            if i + full_blade_length <= shaft_length:\n                                ef = effective_flow_rate\n                                coil_size += 1\n                                if i not in coils:\n                                    coils[i] = {l: 1}\n                                else:\n                                    if l not in coils[i]:\n                                        coils[i][l] = 1\n                                    else:\n                                        coils[i][l] += 1\n                            else:\n                                return ret(idd, shaft_length, upper, i, material, ef, coils, coil_size, max_steam, show_details, show_coils)\n                else:\n                    return ret(idc, shaft_length, upper, i, material, ef, coils, coil_size, max_steam, show_details, show_coils)\n\n\n# 一次将 14，9，\"镥块\" 替换成你的涡轮机内部长、宽和线圈方块\n# 可以使用的线圈在上面有列表\nturbine(14, 9, materials['镥块'])\n",
      "metadata": {
        "trusted": true
      },
      "execution_count": 1,
      "outputs": [
        {
          "name": "stdout",
          "text": "sss\n线圈方块总数: 256\n线圈方块放置方式: {\n    \"1\": {\n        \"3\": 8,\n        \"5\": 16,\n        \"7\": 24,\n        \"9\": 32\n    },\n    \"2\": {\n        \"3\": 8,\n        \"5\": 16,\n        \"7\": 24,\n        \"9\": 32\n    },\n    \"3\": {\n        \"3\": 8,\n        \"5\": 16,\n        \"7\": 24,\n        \"9\": 32\n    },\n    \"4\": {\n        \"3\": 8,\n        \"5\": 7,\n        \"9\": 1\n    }\n}\n蒸汽流速: 90441.672\nrf/t: 1367332.778\nrf/mb: 15.118\ndone\n",
          "output_type": "stream"
        }
      ]
    },
    {
      "cell_type": "code",
      "source": "",
      "metadata": {},
      "execution_count": null,
      "outputs": []
    }
  ]
}